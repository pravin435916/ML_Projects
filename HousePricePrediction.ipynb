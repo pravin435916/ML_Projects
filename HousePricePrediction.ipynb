{
 "cells": [
  {
   "cell_type": "markdown",
   "id": "39704c98-d51b-42f5-9413-1fdc97fde25c",
   "metadata": {},
   "source": [
    "## Name : Pravin Nandankar\n",
    "## KNN ALgorithm on House Price Prediction"
   ]
  },
  {
   "cell_type": "code",
   "execution_count": null,
   "id": "ac26c05b-c5f0-4e06-ab64-bd1d72c90bb8",
   "metadata": {},
   "outputs": [],
   "source": [
    "import pandas as pd  \n",
    "import numpy as np  \n",
    "import matplotlib.pyplot as plt  \n",
    "import seaborn as sns  \n",
    "from sklearn.model_selection import train_test_split  \n",
    "from sklearn.preprocessing import StandardScaler  \n",
    "from sklearn.neighbors import KNeighborsRegressor  \n",
    "from sklearn.metrics import mean_squared_error, r2_score  \n",
    "import warnings  \n",
    "warnings.filterwarnings('ignore')"
   ]
  },
  {
   "cell_type": "code",
   "execution_count": null,
   "id": "c6fccbb3-dbba-481a-b057-9d79eb5e9267",
   "metadata": {},
   "outputs": [],
   "source": [
    "# Load the dataset  \n",
    "data = pd.read_csv('Housing_data.csv')  \n",
    "\n",
    "# Display the first few rows of the dataset  \n",
    "data.head()"
   ]
  },
  {
   "cell_type": "code",
   "execution_count": null,
   "id": "b3b6c495-0c5e-46fa-adb8-e171826834ca",
   "metadata": {},
   "outputs": [],
   "source": [
    "# Basic information about the dataset  \n",
    "data.info()"
   ]
  },
  {
   "cell_type": "code",
   "execution_count": null,
   "id": "a78487b8-e5d8-4902-aecf-e202529c39de",
   "metadata": {},
   "outputs": [],
   "source": [
    "# Summary statistics  \n",
    "data.describe()"
   ]
  },
  {
   "cell_type": "code",
   "execution_count": null,
   "id": "03733ed4-6773-47fa-8c53-571883062819",
   "metadata": {},
   "outputs": [],
   "source": [
    "# Check for missing values  \n",
    "data.isnull().sum()"
   ]
  },
  {
   "cell_type": "code",
   "execution_count": null,
   "id": "9be1fe1f-5dc0-42ba-8848-39985ff4a812",
   "metadata": {},
   "outputs": [],
   "source": [
    "# Visualize the distribution of the target variable (e.g., house prices)  \n",
    "plt.figure(figsize=(10, 6))  \n",
    "sns.histplot(data['Price'], bins=30, kde=True)  \n",
    "plt.title('Distribution of House Prices')  \n",
    "plt.xlabel('Price')  \n",
    "plt.ylabel('Frequency')  \n",
    "plt.show()  "
   ]
  },
  {
   "cell_type": "code",
   "execution_count": null,
   "id": "b8e897a7-b9fe-40b9-aaf3-f3f92f0fbfe1",
   "metadata": {},
   "outputs": [],
   "source": [
    "# Identify non-numeric columns  \n",
    "non_numeric_columns = data.select_dtypes(include=['object']).columns  \n",
    "print(\"Non-numeric columns:\", non_numeric_columns)  \n",
    "\n",
    "# Option 1: Convert categorical variables to numeric using one-hot encoding  \n",
    "data_encoded = pd.get_dummies(data, columns=non_numeric_columns, drop_first=True)  \n",
    "\n",
    "# Option 2: Alternatively, you can drop non-numeric columns if they are not needed  \n",
    "# data_encoded = data.drop(columns=non_numeric_columns)  \n",
    "\n",
    "# Now calculate the correlation matrix  \n",
    "plt.figure(figsize=(12, 8))  \n",
    "correlation_matrix = data_encoded.corr()  \n",
    "sns.heatmap(correlation_matrix, annot=True, fmt=\".2f\", cmap='coolwarm')  \n",
    "plt.title('Correlation Matrix')  \n",
    "plt.show()"
   ]
  },
  {
   "cell_type": "code",
   "execution_count": null,
   "id": "cb4812ad-6148-434c-b5c0-7a9c2ce3d4f7",
   "metadata": {},
   "outputs": [],
   "source": [
    "# Prepare the data for KNN  \n",
    "# Assuming 'price' is the target variable and the rest are features  \n",
    "X = data.drop('Price', axis=1)  ## Price ko chhodke sab\n",
    "y = data['Price']  "
   ]
  },
  {
   "cell_type": "code",
   "execution_count": null,
   "id": "ee7cda4f-9281-4d5c-96c8-5edbdcbe471d",
   "metadata": {},
   "outputs": [],
   "source": [
    "# Handle categorical variables if any (e.g., using one-hot encoding)  \n",
    "X = pd.get_dummies(X, drop_first=True)  "
   ]
  },
  {
   "cell_type": "code",
   "execution_count": null,
   "id": "db84a753-632e-4406-929b-271da633ff4a",
   "metadata": {},
   "outputs": [],
   "source": [
    "# Split the dataset into training and testing sets  \n",
    "X_train, X_test, y_train, y_test = train_test_split(X, y, test_size=0.2, random_state=42)"
   ]
  },
  {
   "cell_type": "code",
   "execution_count": null,
   "id": "019598ab-4aa0-4925-a187-4de8ec8d502d",
   "metadata": {},
   "outputs": [],
   "source": [
    "# Standardize the features  \n",
    "scaler = StandardScaler()  \n",
    "X_train = scaler.fit_transform(X_train)  \n",
    "X_test = scaler.transform(X_test) "
   ]
  },
  {
   "cell_type": "code",
   "execution_count": null,
   "id": "631220d3-8d93-469d-b71b-8db96d264ab0",
   "metadata": {},
   "outputs": [],
   "source": [
    "# Apply KNN  \n",
    "knn = KNeighborsRegressor(n_neighbors=3)  \n",
    "knn.fit(X_train, y_train)  "
   ]
  },
  {
   "cell_type": "code",
   "execution_count": null,
   "id": "7d8da851-f12b-494b-babb-26d072aa56f7",
   "metadata": {},
   "outputs": [],
   "source": [
    "# Make predictions  \n",
    "y_pred = knn.predict(X_test)  \n",
    "\n",
    "# Evaluate the model  \n",
    "mse = mean_squared_error(y_test, y_pred)  \n",
    "r2 = r2_score(y_test, y_pred)  \n",
    "\n",
    "print(f'Mean Squared Error: {mse:.2f}')  \n",
    "print(f'R^2 Score: {r2:.2f}')  "
   ]
  },
  {
   "cell_type": "code",
   "execution_count": null,
   "id": "4d77ceb4-86d2-41d9-bbeb-2811aac36bbc",
   "metadata": {},
   "outputs": [],
   "source": [
    "def predict_price(input_data):  \n",
    "    # Convert input data to DataFrame  \n",
    "    input_df = pd.DataFrame([input_data])  \n",
    "    \n",
    "    # Encode categorical variables  \n",
    "    input_df_encoded = pd.get_dummies(input_df, drop_first=True)  \n",
    "    \n",
    "    # Align the input data with the training data  \n",
    "    input_df_encoded = input_df_encoded.reindex(columns=X.columns, fill_value=0)  \n",
    "    \n",
    "    # Standardize the input data  \n",
    "    input_scaled = scaler.transform(input_df_encoded)  \n",
    "    \n",
    "    # Make the prediction  \n",
    "    predicted_price = knn.predict(input_scaled)  \n",
    "    \n",
    "    return predicted_price[0]  "
   ]
  },
  {
   "cell_type": "code",
   "execution_count": null,
   "id": "b31b9e5c-585e-47ce-bee5-e27f07a08e78",
   "metadata": {},
   "outputs": [],
   "source": [
    "# Example input data for prediction  \n",
    "user_input = {  \n",
    "    'Location': 'Chennai',  # Replace with actual location  \n",
    "    'Bedrooms': 3,          # Replace with actual number of bedrooms  \n",
    "    'Bathrooms': 2,         # Replace with actual number of bathrooms  \n",
    "    'Area': 1200,           # Replace with actual area in square feet  \n",
    "    # Add other necessary features here  \n",
    "}  \n",
    "\n",
    "# Predict the price  \n",
    "predicted_price = predict_price(user_input)  \n",
    "print(f\"Predicted house price: ₹{predicted_price:.2f}\")  "
   ]
  },
  {
   "cell_type": "code",
   "execution_count": null,
   "id": "a5f37b66-e556-403b-919e-149d0be2440f",
   "metadata": {},
   "outputs": [],
   "source": []
  },
  {
   "cell_type": "code",
   "execution_count": null,
   "id": "145d4afc-ff8b-4809-bee1-db8440aa5597",
   "metadata": {},
   "outputs": [],
   "source": []
  }
 ],
 "metadata": {
  "kernelspec": {
   "display_name": "Python 3 (ipykernel)",
   "language": "python",
   "name": "python3"
  },
  "language_info": {
   "codemirror_mode": {
    "name": "ipython",
    "version": 3
   },
   "file_extension": ".py",
   "mimetype": "text/x-python",
   "name": "python",
   "nbconvert_exporter": "python",
   "pygments_lexer": "ipython3",
   "version": "3.11.7"
  }
 },
 "nbformat": 4,
 "nbformat_minor": 5
}
